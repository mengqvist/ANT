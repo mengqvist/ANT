{
 "cells": [
  {
   "cell_type": "code",
   "execution_count": 53,
   "metadata": {},
   "outputs": [
    {
     "data": {
      "text/plain": [
       "<ANT.DegenerateCodon at 0x7fd6687d7e20>"
      ]
     },
     "execution_count": 53,
     "metadata": {},
     "output_type": "execute_result"
    }
   ],
   "source": [
    "\n",
    "import ANT\n",
    "codon_object = ANT.DegenerateCodon(input=['S', 'T', 'A', 'G'], table=1)\n",
    "codon_object"
   ]
  },
  {
   "cell_type": "code",
   "execution_count": 54,
   "metadata": {},
   "outputs": [],
   "source": [
    "# Im pretty sure they reran \"ANT.DegenerateCodon(input=['S', 'T', 'A', 'G'])\" to get the aa to be the same order\n",
    "codon_object = ANT.DegenerateCodon(input='RSC', table=1)"
   ]
  },
  {
   "cell_type": "code",
   "execution_count": 55,
   "metadata": {},
   "outputs": [
    {
     "name": "stdout",
     "output_type": "stream",
     "text": [
      "CPU times: user 3 µs, sys: 0 ns, total: 3 µs\n",
      "Wall time: 4.77 µs\n"
     ]
    },
    {
     "data": {
      "text/plain": [
       "'RSC'"
      ]
     },
     "execution_count": 55,
     "metadata": {},
     "output_type": "execute_result"
    }
   ],
   "source": [
    "%%time\n",
    "codon_object.getTriplet()"
   ]
  },
  {
   "cell_type": "code",
   "execution_count": 56,
   "metadata": {},
   "outputs": [
    {
     "data": {
      "text/plain": [
       "['S', 'G', 'A', 'T']"
      ]
     },
     "execution_count": 56,
     "metadata": {},
     "output_type": "execute_result"
    }
   ],
   "source": [
    "codon_object.getEncoded()"
   ]
  },
  {
   "cell_type": "code",
   "execution_count": 57,
   "metadata": {},
   "outputs": [
    {
     "data": {
      "text/plain": [
       "['S', 'G', 'A', 'T']"
      ]
     },
     "execution_count": 57,
     "metadata": {},
     "output_type": "execute_result"
    }
   ],
   "source": [
    "codon_object.getTarget()"
   ]
  },
  {
   "cell_type": "code",
   "execution_count": 58,
   "metadata": {},
   "outputs": [
    {
     "data": {
      "text/plain": [
       "[]"
      ]
     },
     "execution_count": 58,
     "metadata": {},
     "output_type": "execute_result"
    }
   ],
   "source": [
    "codon_object.getOffTarget()"
   ]
  },
  {
   "cell_type": "code",
   "execution_count": 59,
   "metadata": {},
   "outputs": [
    {
     "data": {
      "text/plain": [
       "['C', 'R']"
      ]
     },
     "execution_count": 59,
     "metadata": {},
     "output_type": "execute_result"
    }
   ],
   "source": [
    "codon_object.getPossible()"
   ]
  },
  {
   "cell_type": "code",
   "execution_count": 60,
   "metadata": {},
   "outputs": [
    {
     "data": {
      "text/plain": [
       "1"
      ]
     },
     "execution_count": 60,
     "metadata": {},
     "output_type": "execute_result"
    }
   ],
   "source": [
    "codon_object.getTable()"
   ]
  },
  {
   "cell_type": "code",
   "execution_count": 61,
   "metadata": {},
   "outputs": [
    {
     "data": {
      "text/plain": [
       "['ACC', 'GCC', 'AGC', 'GGC']"
      ]
     },
     "execution_count": 61,
     "metadata": {},
     "output_type": "execute_result"
    }
   ],
   "source": [
    "codon_object.getCodons()"
   ]
  },
  {
   "cell_type": "code",
   "execution_count": 62,
   "metadata": {},
   "outputs": [
    {
     "data": {
      "text/plain": [
       "{'I': 0,\n",
       " 'V': 0,\n",
       " 'L': 0,\n",
       " 'F': 0,\n",
       " 'C': 0,\n",
       " 'M': 0,\n",
       " 'A': 1,\n",
       " 'G': 1,\n",
       " 'T': 1,\n",
       " 'W': 0,\n",
       " 'S': 1,\n",
       " 'Y': 0,\n",
       " 'P': 0,\n",
       " 'H': 0,\n",
       " 'E': 0,\n",
       " 'Q': 0,\n",
       " 'D': 0,\n",
       " 'N': 0,\n",
       " 'K': 0,\n",
       " 'R': 0,\n",
       " '*': 0,\n",
       " 'U': 0}"
      ]
     },
     "execution_count": 62,
     "metadata": {},
     "output_type": "execute_result"
    }
   ],
   "source": [
    "codon_object.getCodonsPerAA()"
   ]
  },
  {
   "cell_type": "code",
   "execution_count": 63,
   "metadata": {},
   "outputs": [
    {
     "data": {
      "text/plain": [
       "[['RSC', 'S', 'G', 'A', 'T'], ['RST', 'S', 'G', 'A', 'T']]"
      ]
     },
     "execution_count": 63,
     "metadata": {},
     "output_type": "execute_result"
    }
   ],
   "source": [
    "codon_object.getAlternatives()"
   ]
  },
  {
   "cell_type": "code",
   "execution_count": 64,
   "metadata": {},
   "outputs": [
    {
     "data": {
      "text/plain": [
       "[['RSC', 'S', 'G', 'A', 'T'],\n",
       " ['RST', 'S', 'G', 'A', 'T'],\n",
       " ['DSC', 'S', 'G', 'A', 'T', 'C'],\n",
       " ['DST', 'S', 'G', 'A', 'T', 'C'],\n",
       " ['DSA', 'S', 'G', 'A', 'T', '*', 'R'],\n",
       " ['DSG', 'S', 'G', 'A', 'T', 'R', 'W']]"
      ]
     },
     "execution_count": 64,
     "metadata": {},
     "output_type": "execute_result"
    }
   ],
   "source": [
    "codon_object.getExtendedAlternatives()"
   ]
  },
  {
   "cell_type": "code",
   "execution_count": 65,
   "metadata": {},
   "outputs": [
    {
     "name": "stdout",
     "output_type": "stream",
     "text": [
      "Degenerate codon: RSC\n",
      "genetic code: 1\n",
      "Codons which were excluded from the computation: []\n",
      "Real codons encoded by the degenerate codon: ['ACC', 'GCC', 'AGC', 'GGC']\n",
      "Target amino acids: ['S', 'G', 'A', 'T']\n",
      "Encoded amino acids: ['S', 'G', 'A', 'T']\n",
      "Off-target amino acids: []\n",
      "Amino acids that can be added w/o further off-targets: ['C', 'R']\n",
      "Codons for each amino acid: {'I': 0, 'V': 0, 'L': 0, 'F': 0, 'C': 0, 'M': 0, 'A': 1, 'G': 1, 'T': 1, 'W': 0, 'S': 1, 'Y': 0, 'P': 0, 'H': 0, 'E': 0, 'Q': 0, 'D': 0, 'N': 0, 'K': 0, 'R': 0, '*': 0, 'U': 0}\n",
      "Library size (number of codons): 4\n",
      "Clones to screen for 95% library coverage: 11\n",
      "Alternate codons with same number of off-target amino acids: [['RSC', 'S', 'G', 'A', 'T'], ['RST', 'S', 'G', 'A', 'T']]\n",
      "Alternate codons with same number or more off-target amino acids: [['RSC', 'S', 'G', 'A', 'T'], ['RST', 'S', 'G', 'A', 'T'], ['DSC', 'S', 'G', 'A', 'T', 'C'], ['DST', 'S', 'G', 'A', 'T', 'C'], ['DSA', 'S', 'G', 'A', 'T', '*', 'R'], ['DSG', 'S', 'G', 'A', 'T', 'R', 'W']]\n",
      "\n"
     ]
    }
   ],
   "source": [
    "print(codon_object.getReport())"
   ]
  }
 ],
 "metadata": {
  "interpreter": {
   "hash": "37537956348c52bee6e42498074e249246529a52ddd9736239bbfef874e67550"
  },
  "kernelspec": {
   "display_name": "Python 3.9.7 64-bit ('iavi': conda)",
   "language": "python",
   "name": "python3"
  },
  "language_info": {
   "codemirror_mode": {
    "name": "ipython",
    "version": 3
   },
   "file_extension": ".py",
   "mimetype": "text/x-python",
   "name": "python",
   "nbconvert_exporter": "python",
   "pygments_lexer": "ipython3",
   "version": "3.9.7"
  },
  "orig_nbformat": 4
 },
 "nbformat": 4,
 "nbformat_minor": 2
}
