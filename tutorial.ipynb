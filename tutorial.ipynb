{
 "cells": [
  {
   "cell_type": "code",
   "execution_count": 1,
   "metadata": {},
   "outputs": [
    {
     "data": {
      "text/plain": [
       "<ANT.DegenerateCodon at 0x7fe4f8572460>"
      ]
     },
     "execution_count": 1,
     "metadata": {},
     "output_type": "execute_result"
    }
   ],
   "source": [
    "\n",
    "import ANT\n",
    "codon_object = ANT.DegenerateCodon(input=['S', 'T', 'A', 'G'], table=1)\n",
    "codon_object"
   ]
  },
  {
   "cell_type": "code",
   "execution_count": 2,
   "metadata": {},
   "outputs": [],
   "source": [
    "# codon_object = ANT.DegenerateCodon(input='RSC', table=1)"
   ]
  },
  {
   "cell_type": "code",
   "execution_count": 3,
   "metadata": {},
   "outputs": [
    {
     "data": {
      "text/plain": [
       "'RSC'"
      ]
     },
     "execution_count": 3,
     "metadata": {},
     "output_type": "execute_result"
    }
   ],
   "source": [
    "codon_object.getTriplet()"
   ]
  },
  {
   "cell_type": "code",
   "execution_count": 4,
   "metadata": {},
   "outputs": [
    {
     "data": {
      "text/plain": [
       "['S', 'T', 'A', 'G']"
      ]
     },
     "execution_count": 4,
     "metadata": {},
     "output_type": "execute_result"
    }
   ],
   "source": [
    "codon_object.getEncoded()"
   ]
  },
  {
   "cell_type": "code",
   "execution_count": 5,
   "metadata": {},
   "outputs": [
    {
     "data": {
      "text/plain": [
       "['S', 'T', 'A', 'G']"
      ]
     },
     "execution_count": 5,
     "metadata": {},
     "output_type": "execute_result"
    }
   ],
   "source": [
    "codon_object.getTarget()"
   ]
  },
  {
   "cell_type": "code",
   "execution_count": 6,
   "metadata": {},
   "outputs": [
    {
     "data": {
      "text/plain": [
       "[]"
      ]
     },
     "execution_count": 6,
     "metadata": {},
     "output_type": "execute_result"
    }
   ],
   "source": [
    "codon_object.getOffTarget()"
   ]
  },
  {
   "cell_type": "code",
   "execution_count": 7,
   "metadata": {},
   "outputs": [
    {
     "data": {
      "text/plain": [
       "['C', 'R']"
      ]
     },
     "execution_count": 7,
     "metadata": {},
     "output_type": "execute_result"
    }
   ],
   "source": [
    "codon_object.getPossible()"
   ]
  },
  {
   "cell_type": "code",
   "execution_count": 8,
   "metadata": {},
   "outputs": [
    {
     "data": {
      "text/plain": [
       "1"
      ]
     },
     "execution_count": 8,
     "metadata": {},
     "output_type": "execute_result"
    }
   ],
   "source": [
    "codon_object.getTable()"
   ]
  },
  {
   "cell_type": "code",
   "execution_count": 9,
   "metadata": {},
   "outputs": [
    {
     "data": {
      "text/plain": [
       "['ACC', 'GCC', 'AGC', 'GGC']"
      ]
     },
     "execution_count": 9,
     "metadata": {},
     "output_type": "execute_result"
    }
   ],
   "source": [
    "codon_object.getCodons()"
   ]
  },
  {
   "cell_type": "code",
   "execution_count": 10,
   "metadata": {},
   "outputs": [
    {
     "data": {
      "text/plain": [
       "{'I': 0,\n",
       " 'V': 0,\n",
       " 'L': 0,\n",
       " 'F': 0,\n",
       " 'C': 0,\n",
       " 'M': 0,\n",
       " 'A': 1,\n",
       " 'G': 1,\n",
       " 'T': 1,\n",
       " 'W': 0,\n",
       " 'S': 1,\n",
       " 'Y': 0,\n",
       " 'P': 0,\n",
       " 'H': 0,\n",
       " 'E': 0,\n",
       " 'Q': 0,\n",
       " 'D': 0,\n",
       " 'N': 0,\n",
       " 'K': 0,\n",
       " 'R': 0,\n",
       " '*': 0,\n",
       " 'U': 0}"
      ]
     },
     "execution_count": 10,
     "metadata": {},
     "output_type": "execute_result"
    }
   ],
   "source": [
    "codon_object.getCodonsPerAA()"
   ]
  },
  {
   "cell_type": "code",
   "execution_count": 11,
   "metadata": {},
   "outputs": [
    {
     "data": {
      "text/plain": [
       "[['RSC', 'S', 'T', 'A', 'G'], ['RST', 'S', 'T', 'A', 'G']]"
      ]
     },
     "execution_count": 11,
     "metadata": {},
     "output_type": "execute_result"
    }
   ],
   "source": [
    "codon_object.getAlternatives()"
   ]
  },
  {
   "cell_type": "code",
   "execution_count": 12,
   "metadata": {},
   "outputs": [
    {
     "data": {
      "text/plain": [
       "[['RSC', 'S', 'T', 'A', 'G'],\n",
       " ['RST', 'S', 'T', 'A', 'G'],\n",
       " ['DSC', 'S', 'T', 'A', 'G', 'C'],\n",
       " ['DST', 'S', 'T', 'A', 'G', 'C'],\n",
       " ['DSA', 'S', 'T', 'A', 'G', '*', 'R'],\n",
       " ['DSG', 'S', 'T', 'A', 'G', 'R', 'W']]"
      ]
     },
     "execution_count": 12,
     "metadata": {},
     "output_type": "execute_result"
    }
   ],
   "source": [
    "codon_object.getExtendedAlternatives()"
   ]
  },
  {
   "cell_type": "code",
   "execution_count": 13,
   "metadata": {},
   "outputs": [
    {
     "data": {
      "text/plain": [
       "\"Degenerate codon: RSC\\ngenetic code: 1\\nCodons which were excluded from the computation: []\\nReal codons encoded by the degenerate codon: ['ACC', 'GCC', 'AGC', 'GGC']\\nTarget amino acids: ['S', 'T', 'A', 'G']\\nEncoded amino acids: ['S', 'T', 'A', 'G']\\nOff-target amino acids: []\\nAmino acids that can be added w/o further off-targets: ['C', 'R']\\nCodons for each amino acid: {'I': 0, 'V': 0, 'L': 0, 'F': 0, 'C': 0, 'M': 0, 'A': 1, 'G': 1, 'T': 1, 'W': 0, 'S': 1, 'Y': 0, 'P': 0, 'H': 0, 'E': 0, 'Q': 0, 'D': 0, 'N': 0, 'K': 0, 'R': 0, '*': 0, 'U': 0}\\nLibrary size (number of codons): 4\\nClones to screen for 95% library coverage: 11\\nAlternate codons with same number of off-target amino acids: [['RSC', 'S', 'T', 'A', 'G'], ['RST', 'S', 'T', 'A', 'G']]\\nAlternate codons with same number or more off-target amino acids: [['RSC', 'S', 'T', 'A', 'G'], ['RST', 'S', 'T', 'A', 'G'], ['DSC', 'S', 'T', 'A', 'G', 'C'], ['DST', 'S', 'T', 'A', 'G', 'C'], ['DSA', 'S', 'T', 'A', 'G', '*', 'R'], ['DSG', 'S', 'T', 'A', 'G', 'R', 'W']]\\n\""
      ]
     },
     "execution_count": 13,
     "metadata": {},
     "output_type": "execute_result"
    }
   ],
   "source": [
    "codon_object.getReport()"
   ]
  }
 ],
 "metadata": {
  "interpreter": {
   "hash": "37537956348c52bee6e42498074e249246529a52ddd9736239bbfef874e67550"
  },
  "kernelspec": {
   "display_name": "Python 3.9.7 64-bit ('iavi': conda)",
   "language": "python",
   "name": "python3"
  },
  "language_info": {
   "codemirror_mode": {
    "name": "ipython",
    "version": 3
   },
   "file_extension": ".py",
   "mimetype": "text/x-python",
   "name": "python",
   "nbconvert_exporter": "python",
   "pygments_lexer": "ipython3",
   "version": "3.9.7"
  },
  "orig_nbformat": 4
 },
 "nbformat": 4,
 "nbformat_minor": 2
}
